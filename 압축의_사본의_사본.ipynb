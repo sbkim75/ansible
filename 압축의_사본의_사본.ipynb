{
  "nbformat": 4,
  "nbformat_minor": 0,
  "metadata": {
    "colab": {
      "name": "압축의 사본의 사본",
      "provenance": [],
      "collapsed_sections": [],
      "toc_visible": true,
      "include_colab_link": true
    },
    "kernelspec": {
      "name": "python3",
      "display_name": "Python 3"
    }
  },
  "cells": [
    {
      "cell_type": "markdown",
      "metadata": {
        "id": "view-in-github",
        "colab_type": "text"
      },
      "source": [
        "<a href=\"https://colab.research.google.com/github/sbkim75/ansible/blob/master/%EC%95%95%EC%B6%95%EC%9D%98_%EC%82%AC%EB%B3%B8%EC%9D%98_%EC%82%AC%EB%B3%B8.ipynb\" target=\"_parent\"><img src=\"https://colab.research.google.com/assets/colab-badge.svg\" alt=\"Open In Colab\"/></a>"
      ]
    },
    {
      "cell_type": "markdown",
      "metadata": {
        "id": "0LMGPR3MZhkH"
      },
      "source": [
        "# 소개 #\n",
        "구글 드라이브에 있는 압축 파일 풀기\n",
        "\n",
        "압축 파일이 있는 계정을 마운트 한 후 일반 리눅스 명령 사용\n"
      ]
    },
    {
      "cell_type": "markdown",
      "metadata": {
        "id": "Nt7Ba-K_bjxL"
      },
      "source": [
        "# 구글 드라이브 마운트 #\n",
        "\n",
        "\n",
        "실행 후 나오는 링크를 눌러 계정을 선택하고 인증코드를 입력 후 Enter\n"
      ]
    },
    {
      "cell_type": "code",
      "metadata": {
        "id": "JWNi1zD9Z-WM",
        "colab": {
          "base_uri": "https://localhost:8080/"
        },
        "outputId": "631c7581-ec1b-461f-929d-516c5a872c36"
      },
      "source": [
        "from google.colab import drive\n",
        "drive.mount('/gdrive')"
      ],
      "execution_count": null,
      "outputs": [
        {
          "output_type": "stream",
          "text": [
            "Mounted at /gdrive\n"
          ],
          "name": "stdout"
        }
      ]
    },
    {
      "cell_type": "markdown",
      "metadata": {
        "id": "HVU13NzJc6tC"
      },
      "source": [
        "아래 코드를 실행하여 마운트가 잘되었는지 확인."
      ]
    },
    {
      "cell_type": "code",
      "metadata": {
        "id": "DddN3vjgbXB9",
        "colab": {
          "base_uri": "https://localhost:8080/"
        },
        "outputId": "38d8cac6-ad07-456d-a993-ca06d9a6ca3a"
      },
      "source": [
        "!ls -al \"/gdrive\""
      ],
      "execution_count": null,
      "outputs": [
        {
          "output_type": "stream",
          "text": [
            "total 20\n",
            "dr-x------  2 root root 4096 Aug 30 21:00 .file-revisions-by-id\n",
            "drwx------ 10 root root 4096 Aug 30 21:00 MyDrive\n",
            "drwx------  3 root root 4096 Aug 30 21:00 Shareddrives\n",
            "dr-x------  2 root root 4096 Aug 30 21:00 .shortcut-targets-by-id\n",
            "drwx------  5 root root 4096 Aug 30 21:00 .Trash-0\n"
          ],
          "name": "stdout"
        }
      ]
    },
    {
      "cell_type": "markdown",
      "metadata": {
        "id": "hxDKL2jBrnEe"
      },
      "source": [
        "## 리눅스 명령 ##"
      ]
    },
    {
      "cell_type": "markdown",
      "metadata": {
        "id": "R-SYcz74w_PR"
      },
      "source": [
        "* ls\n"
      ]
    },
    {
      "cell_type": "code",
      "metadata": {
        "id": "MOUYXfZhn47y",
        "colab": {
          "base_uri": "https://localhost:8080/"
        },
        "outputId": "6876870b-b98d-4ec0-e3ca-ecc7ae5b032f"
      },
      "source": [
        "!ls -al \"/gdrive/Shareddrives/구드공 소스 - ETC1/리딩/복사/웹\""
      ],
      "execution_count": null,
      "outputs": [
        {
          "output_type": "stream",
          "text": [
            "ls: cannot access '/gdrive/Shareddrives/구드공 소스 - ETC1/리딩/복사/웹': No such file or directory\n"
          ],
          "name": "stdout"
        }
      ]
    },
    {
      "cell_type": "markdown",
      "metadata": {
        "id": "2woVNShgraN9"
      },
      "source": [
        "  * unzip  \n",
        "``` !unzip \"zip 파일경로\" -d \"압축해제파일경로\"```\n",
        "명령으로 압축 풀기\n"
      ]
    },
    {
      "cell_type": "code",
      "metadata": {
        "id": "umdDvRnh0owG",
        "colab": {
          "base_uri": "https://localhost:8080/"
        },
        "outputId": "e68c2d30-dc2a-4d03-c4ea-077f96777834"
      },
      "source": [
        "# 압축 내용만 보기\n",
        "!unzip -l -O cp949 \"/gdrive/Shareddrives/구드공 소스 - ETC1/리딩/MP/Book/소설/국내소설[작가별]/ㄱ/[김유정] 전집.zip\""
      ],
      "execution_count": null,
      "outputs": [
        {
          "output_type": "stream",
          "text": [
            "Archive:  /gdrive/Shareddrives/구드공 소스 - ETC1/리딩/MP/Book/소설/국내소설[작가별]/ㄱ/[김유정] 전집.zip\n",
            "  Length      Date    Time    Name\n",
            "---------  ---------- -----   ----\n",
            "   243911  1998-02-11 10:10   수필 2.TXT\n",
            "   499690  2004-12-29 22:35   김유정 전집.TXT\n",
            "---------                     -------\n",
            "   743601                     2 files\n"
          ],
          "name": "stdout"
        }
      ]
    },
    {
      "cell_type": "code",
      "metadata": {
        "id": "VIgQeatYovAi",
        "colab": {
          "base_uri": "https://localhost:8080/"
        },
        "outputId": "1b24a7eb-576b-463b-d1ec-3616ad22948e"
      },
      "source": [
        "#!unzip --help\n",
        "!unzip -O cp949 \"/gdrive/Shareddrives/구드공 소스 - ETC1/리딩/MP/Book/소설/국내소설[작가별]/ㄱ/[김유정] 전집.zip\" -d \"/gdrive/Shareddrives/구드공 소스 - ETC1/리딩/MP/Book/소설/국내소설[작가별]/ㄱ\""
      ],
      "execution_count": null,
      "outputs": [
        {
          "output_type": "stream",
          "text": [
            "Archive:  /gdrive/Shareddrives/구드공 소스 - ETC1/리딩/MP/Book/소설/국내소설[작가별]/ㄱ/[김유정] 전집.zip\n",
            "  inflating: 수필 2.TXT            \n",
            "  inflating: 김유정 전집.TXT    \n"
          ],
          "name": "stdout"
        }
      ]
    },
    {
      "cell_type": "markdown",
      "metadata": {
        "id": "ixKum7duxHq0"
      },
      "source": [
        "* 분할파일 병합\n"
      ]
    },
    {
      "cell_type": "markdown",
      "metadata": {
        "id": "osi-kUUS0iaH"
      },
      "source": [
        ""
      ]
    },
    {
      "cell_type": "code",
      "metadata": {
        "id": "TBJdpkgmGbha"
      },
      "source": [
        "# zip, z01, z02 등 멀티파트\n",
        "# 파일명 변경 => cat으로 하나의 파일로\n",
        "#!mv \"/gdrive/Shareddrives/구드공 소스 - ETC1/리딩/복사/MAXIM/MAXIM.z02\" \"/gdrive/Shareddrives/구드공 소스 - ETC1/리딩/복사/MAXIM/MAXIM.zip.03\"\n",
        "!cat \"/gdrive/Shareddrives/구드공 소스 - ETC1/리딩/복사/MAXIM/MAXIM.zip\"* > \"/gdrive/Shareddrives/구드공 소스 - ETC1/리딩/복사/MAXIM/all.zip\""
      ],
      "execution_count": null,
      "outputs": []
    },
    {
      "cell_type": "markdown",
      "metadata": {
        "id": "j4pTTN8ZxXfj"
      },
      "source": [
        "* 7z 풀기\n"
      ]
    },
    {
      "cell_type": "code",
      "metadata": {
        "id": "s16lbuMfc42K"
      },
      "source": [
        "!7zr l \"/gdrive/Shareddrives/구드공 소스 - ETC1/리딩/복사/소설 텍스트/소설 텍스트.7z\"\n",
        "#!7zr --help"
      ],
      "execution_count": null,
      "outputs": []
    },
    {
      "cell_type": "markdown",
      "metadata": {
        "id": "w88oIgi08-90"
      },
      "source": [
        "* rar\n"
      ]
    },
    {
      "cell_type": "code",
      "metadata": {
        "id": "fVlR_szU9A9a"
      },
      "source": [
        "#!unrar\n",
        "#!unrar x \"/gdrive/Shareddrives/구드공 소스 - ETC1/리딩/MP/Book/무협/무협지 (중국)/김용/[김용] 설산비호.rar\"\n",
        "#!ls -al\n",
        "# find ./ -name '*.rar' -exec unrar e {} \\;\n",
        "#!find \"/gdrive/Shareddrives/구드공 소스 - ETC1/리딩/MP/Book/무협/무협지 (중국)/김용\" -name '*.rar' -exec unrar e {} \\;\n",
        "!unrar e -r -o- \"/gdrive/Shareddrives/구드공 소스 - ETC1/리딩/MP/Book/무협/무협지 (중국)/*.rar\" \"/gdrive/Shareddrives/구드공 소스 - ETC1/리딩/MP/Book/무협/무협지 (중국)\""
      ],
      "execution_count": null,
      "outputs": []
    },
    {
      "cell_type": "markdown",
      "metadata": {
        "id": "twCzKRv0xbif"
      },
      "source": [
        "* find\n"
      ]
    },
    {
      "cell_type": "code",
      "metadata": {
        "id": "FQjmxqtWxifz"
      },
      "source": [
        "#!find \"/gdrive/Shareddrives/구드공 소스 - ETC1/리딩/MP/Comic/국내\" -name '*.zip' -size +200000k\n",
        "#!find \"/gdrive/Shareddrives/구드공 소스 - ETC1/리딩/복사/웹/전설이 돼라 ㉿ 完\" -name '*.zip' \n",
        "#!find \"/gdrive/Shareddrives/구드공 소스 - ETC1/리딩/MP/Comic/제목/하\" -name '*.zip' \n",
        "#!find \"/gdrive/Shareddrives/구드공 소스 - ETC1/리딩/MP/Book/소설\" -name '*.TXT' #-exec rm -rf {} \\;\n",
        "#!find \"/gdrive/Shareddrives/구드공 소스 - ETC1/리딩/MP/Book/소설\" -name '*.TXT' -exec rename -v 's/\\.TXT$/\\.txt/' {} \\;\n",
        "#!find \"/gdrive/Shareddrives/구드공 소스 - ETC1/리딩/MP/Book/소설\" -name '*.PDF' -exec rename -v 's/\\.PDF$/\\.pdf/' {} \\;\n",
        "#!find \"/gdrive/Shareddrives/구드공 소스 - ETC1/리딩/MP/Book/소설\" -name '*.pdf' | xargs -i mv {} \"/gdrive/Shareddrives/구드공 소스 - ETC1/리딩/MP/Book/책/이미지/pdf\";\n",
        "#!find \"/gdrive/Shareddrives/구드공 소스 - ETC1/리딩/MP/Book/소설\" -type f -not -name '*.txt' #-exec rm -rf {} \\;\n",
        "\n",
        "!find \"/gdrive/Shareddrives/구드공 소스 - ETC1/리딩/MP/Book/무협\" -type f -not -name '*.txt'\n",
        "#!find \"/gdrive/Shareddrives/구드공 소스 - ETC1/리딩/MP/Book/무협\" -name '*.TXT' -exec rename -v 's/\\.TXT$/\\.txt/' {} \\;\n",
        "#!find \"/gdrive/Shareddrives/구드공 소스 - ETC1/리딩/MP/Book/무협\" -name '*.CAP' -exec rename -v 's/\\.CAP$/\\.txt/' {} \\;\n",
        "#!find \"/gdrive/Shareddrives/구드공 소스 - ETC1/리딩/MP/Book/무협\" -name '*.ZIP' -exec rename -v 's/\\.ZIP$/\\.zip/' {} \\;\n",
        "#!find \"/gdrive/Shareddrives/구드공 소스 - ETC1/리딩/MP/Book/무협\" -name '*.RAR' -exec rename -v 's/\\.RAR$/\\.rar/' {} \\;\n",
        "!find \"/gdrive/Shareddrives/구드공 소스 - ETC1/리딩/MP/Book/무협\" -name '*.zip' -exec rm -rf {} \\;"
      ],
      "execution_count": null,
      "outputs": []
    },
    {
      "cell_type": "markdown",
      "metadata": {
        "id": "JNWhKS_BxdfF"
      },
      "source": [
        "  * zip to cbz\n",
        "  \n"
      ]
    },
    {
      "cell_type": "code",
      "metadata": {
        "id": "-B-_IFb-hHRG"
      },
      "source": [
        " !find \"/gdrive/Shareddrives/구드공 소스 - ETC1/리딩/MP/Comic\" -name \"*.zip\" -exec rename -v 's/\\.zip$/\\.cbz/i' {} \\;\n"
      ],
      "execution_count": null,
      "outputs": []
    },
    {
      "cell_type": "markdown",
      "metadata": {
        "id": "ucLCPXm5hndi"
      },
      "source": [
        "* 파일 삭제\n"
      ]
    },
    {
      "cell_type": "code",
      "metadata": {
        "id": "HFDU2yDzhpX4"
      },
      "source": [
        "#!find \"/gdrive/Shareddrives/구드공 소스 - ETC1/리딩/MP/Comic/제목/하\" -name '\\[Cover\\].jpg' -exec rm -rf {} \\;\n",
        "!find \"/gdrive/Shareddrives/구드공 소스 - ETC1/리딩/MP/Comic/제목/하\" -name '*.zip' #-exec rm -rf {} \\;\n",
        "#!find \"/gdrive/Shareddrives/구드공 소스 - ETC1/리딩/복사/메이저/메이저 1~78 완/메이저 1~78 완\" -name Thumbs.db #-exec rm -rf {} \\;\n"
      ],
      "execution_count": null,
      "outputs": []
    },
    {
      "cell_type": "markdown",
      "metadata": {
        "id": "auqc2qGAih5t"
      },
      "source": [
        "* 이름 변경  \n",
        "```rename -v -n 's/abc/def/' *```\n",
        "테스트 후 -n 제거"
      ]
    },
    {
      "cell_type": "code",
      "metadata": {
        "id": "-T8KT547ip3P"
      },
      "source": [
        "#!rename --help\n",
        "#!find \"/gdrive/Shareddrives/구드공 소스 - ETC1/리딩/MP/Comic/제목/하/\" -maxdepth 1\n",
        "#!find \"/gdrive/Shareddrives/구드공 소스 - ETC1/리딩/MP/Comic/제목/하/\" -maxdepth 1 -exec rename -v -n 's/\\s\\(\\d~\\d{1,2}권\\s완\\)$//i' {} \\;\n",
        "#!find \"/gdrive/Shareddrives/구드공 소스 - ETC1/리딩/MP/Comic/제목/하/\" -maxdepth 1 -exec rename -v -n 's/화이트/블랙/' {} \\;\n",
        "!find \"/gdrive/Shareddrives/구드공 소스 - ETC1/리딩/MP/Comic/제목/하\" -maxdepth 1 -name '호*'\n",
        "\n"
      ],
      "execution_count": null,
      "outputs": []
    },
    {
      "cell_type": "markdown",
      "metadata": {
        "id": "0qRnhpXGr4xV"
      },
      "source": [
        "\n",
        "# 1. 폴더 탐색하여 zip 파일 풀기\n",
        "\n"
      ]
    },
    {
      "cell_type": "markdown",
      "metadata": {
        "id": "aBRIh77AsC6z"
      },
      "source": [
        "## 환경설정\n",
        "\n",
        "config 값 입력 수정 후 반드시 실행해야 적용\n"
      ]
    },
    {
      "cell_type": "code",
      "metadata": {
        "colab": {
          "base_uri": "https://localhost:8080/"
        },
        "id": "Ru0g9ViwsILF",
        "outputId": "b5f36aef-7d1d-4281-8540-2af78f3c59f2"
      },
      "source": [
        "config = {\n",
        "    '압축파일이 있는 경로' : '/gdrive/Shareddrives/구드공 소스 - ETC1/리딩/MP/Book/무협/무협지 (중국)/김용 아류작',\n",
        "    '하위 폴더 탐색' : True, # True이면 모든 폴더에서 zip 파일을 찾아 압축 해제\n",
        "    '원본 zip파일 삭제' : True, \n",
        "    \n",
        "    #디스코드로 알림을 받고자 할때\n",
        "    '디스코드 웹훅' : 'https://discord.com/api/webhooks/879676361269194762/FLu-DwrIkrgyNl3eMnJRWLoxzEMRij2j_LhkbVZVdY2iJd7kXvRTJRQXD9Q5lCP61gob', \n",
        "    '압축폴더에 풀기' : False, # False인 경우 타겟폴더를 만들고 품\n",
        "    # 디폴트 : 파일명에서 .zip을 제외한 값을 폴더명으로 사용\n",
        "\n",
        "    #'타겟 폴더명 규칙' : [\n",
        "    #  {\n",
        "    #    '정규식' : '(?P<title>.*?)\\.zip',  \n",
        "    #    '포맷' : '{title}',\n",
        "    #  }\n",
        "    #]\n",
        "\n",
        "    '타겟 폴더명 규칙' : [\n",
        "      # [만화,완] 파괴마 사다미츠 (1-12) - 나카히라 마사히코\n",
        "      {\n",
        "        '정규식' : '\\[만화,완\\]\\s(?P<title>.*?)\\s\\(.*?-\\s(?P<author>.*?)\\.zip',  \n",
        "        '포맷' : '{title} [{author}]',\n",
        "      },             \n",
        "      {\n",
        "        '정규식' : '(?P<title>.*?)\\.zip',  \n",
        "        '포맷' : '{title}',\n",
        "      }\n",
        "    ]\n",
        "}\n",
        "print(config)"
      ],
      "execution_count": null,
      "outputs": [
        {
          "output_type": "stream",
          "text": [
            "{'압축파일이 있는 경로': '/gdrive/Shareddrives/구드공 소스 - ETC1/리딩/MP/Book/무협/무협지 (중국)/김용 아류작', '하위 폴더 탐색': True, '원본 zip파일 삭제': True, '디스코드 웹훅': 'https://discord.com/api/webhooks/879676361269194762/FLu-DwrIkrgyNl3eMnJRWLoxzEMRij2j_LhkbVZVdY2iJd7kXvRTJRQXD9Q5lCP61gob', '압축폴더에 풀기': False, '타겟 폴더명 규칙': [{'정규식': '\\\\[만화,완\\\\]\\\\s(?P<title>.*?)\\\\s\\\\(.*?-\\\\s(?P<author>.*?)\\\\.zip', '포맷': '{title} [{author}]'}, {'정규식': '(?P<title>.*?)\\\\.zip', '포맷': '{title}'}]}\n"
          ],
          "name": "stdout"
        }
      ]
    },
    {
      "cell_type": "markdown",
      "metadata": {
        "id": "6ueUK4WucYix"
      },
      "source": [
        "## 실행 ##\n"
      ]
    },
    {
      "cell_type": "code",
      "metadata": {
        "id": "NCma_ESoeJzZ",
        "colab": {
          "base_uri": "https://localhost:8080/"
        },
        "outputId": "8444ea74-56ad-4a5e-ca1c-b84ea7e320c2"
      },
      "source": [
        "#@title ← 실행버튼을 누르세요. {display-mode: \"form\"}\n",
        "\n",
        "#@markdown 더블클릭하면 소스 확인\n",
        "\n",
        "import os, subprocess, sys, traceback, fnmatch, re, requests\n",
        "\n",
        "def send_message(msg):\n",
        "  print(msg)\n",
        "  url = config['디스코드 웹훅']\n",
        "  if url == '':\n",
        "    return\n",
        "  data = {\"content\":msg, \"username\":\"Colab 압축풀기\"}\n",
        "  #data[\"embeds\"] = [{\"description\" : \"text in embed\",\"title\" : \"embed title\"}]\n",
        "  result = requests.post(url, json = data)\n",
        "  try:\n",
        "      result.raise_for_status()\n",
        "  except requests.exceptions.HTTPError as err:\n",
        "      print(err)\n",
        "\n",
        "def start():\n",
        "  for base, dirs, files in os.walk(config['압축파일이 있는 경로']):\n",
        "    if config['하위 폴더 탐색'] == False and base != config['압축파일이 있는 경로']:\n",
        "      break\n",
        "    files = fnmatch.filter(files, '*.zip')\n",
        "\n",
        "    for idx, zipfile in enumerate(files):\n",
        "      \n",
        "      for rule in config['타겟 폴더명 규칙']:\n",
        "        match = re.match(rule['정규식'], zipfile)\n",
        "        if match:\n",
        "          msg = f\"{idx+1} / {len(files)}\\n  폴더 : {base}\\n  파일 : {zipfile}\\n\"\n",
        "          try:\n",
        "            if config['압축폴더에 풀기']:\n",
        "              output = subprocess.check_output(['unzip', '-O', 'cp949','-n', os.path.join(base, zipfile), '-d', base], encoding='utf8')\n",
        "            else:\n",
        "              target = rule['포맷'].format(**match.groupdict())\n",
        "              output = subprocess.check_output(['unzip', '-O', 'cp949', '-n', os.path.join(base, zipfile), '-d', os.path.join(base, target)], encoding='utf8')\n",
        "            msg += output\n",
        "            if config['원본 zip파일 삭제']:\n",
        "              os.remove(os.path.join(base, zipfile))\n",
        "              msg += 'zip 파일 삭제'\n",
        "          except subprocess.CalledProcessError as grepexc:                                                                                                   \n",
        "            msg += grepexc.output\n",
        "            msg += '\\n  에러'\n",
        "          send_message(msg)\n",
        "          break\n",
        "  print(\"끝\")\n",
        "start()\n"
      ],
      "execution_count": null,
      "outputs": [
        {
          "output_type": "stream",
          "text": [
            "1 / 7\n",
            "  폴더 : /gdrive/Shareddrives/구드공 소스 - ETC1/리딩/MP/Book/무협/무협지 (중국)/김용 아류작\n",
            "  파일 : [____] 화산논검 7부 - 신조협 양과 후전.zip\n",
            "Archive:  /gdrive/Shareddrives/구드공 소스 - ETC1/리딩/MP/Book/무협/무협지 (중국)/김용 아류작/[____] 화산논검 7부 - 신조협 양과 후전.zip\n",
            "  inflating: /gdrive/Shareddrives/구드공 소스 - ETC1/리딩/MP/Book/무협/무협지 (중국)/김용 아류작/[____] 화산논검 7부 - 신조협 양과 후전/화산논검(華山論劍)7부.txt  \n",
            "zip 파일 삭제\n",
            "2 / 7\n",
            "  폴더 : /gdrive/Shareddrives/구드공 소스 - ETC1/리딩/MP/Book/무협/무협지 (중국)/김용 아류작\n",
            "  파일 : [전용] 도룡기.zip\n",
            "Archive:  /gdrive/Shareddrives/구드공 소스 - ETC1/리딩/MP/Book/무협/무협지 (중국)/김용 아류작/[전용] 도룡기.zip\n",
            "  inflating: /gdrive/Shareddrives/구드공 소스 - ETC1/리딩/MP/Book/무협/무협지 (중국)/김용 아류작/[전용] 도룡기/도룡기4.txt  \n",
            "  inflating: /gdrive/Shareddrives/구드공 소스 - ETC1/리딩/MP/Book/무협/무협지 (중국)/김용 아류작/[전용] 도룡기/도룡기2.txt  \n",
            "  inflating: /gdrive/Shareddrives/구드공 소스 - ETC1/리딩/MP/Book/무협/무협지 (중국)/김용 아류작/[전용] 도룡기/도룡기3.txt  \n",
            "  inflating: /gdrive/Shareddrives/구드공 소스 - ETC1/리딩/MP/Book/무협/무협지 (중국)/김용 아류작/[전용] 도룡기/도룡기1.txt  \n",
            "zip 파일 삭제\n",
            "3 / 7\n",
            "  폴더 : /gdrive/Shareddrives/구드공 소스 - ETC1/리딩/MP/Book/무협/무협지 (중국)/김용 아류작\n",
            "  파일 : [전용] 비호후전.zip\n",
            "Archive:  /gdrive/Shareddrives/구드공 소스 - ETC1/리딩/MP/Book/무협/무협지 (중국)/김용 아류작/[전용] 비호후전.zip\n",
            "  inflating: /gdrive/Shareddrives/구드공 소스 - ETC1/리딩/MP/Book/무협/무협지 (중국)/김용 아류작/[전용] 비호후전/[전용] 비호후전-2.txt  \n",
            "  inflating: /gdrive/Shareddrives/구드공 소스 - ETC1/리딩/MP/Book/무협/무협지 (중국)/김용 아류작/[전용] 비호후전/[전용] 비호후전-1.txt  \n",
            "  inflating: /gdrive/Shareddrives/구드공 소스 - ETC1/리딩/MP/Book/무협/무협지 (중국)/김용 아류작/[전용] 비호후전/[전용] 비호후전-3.txt  \n",
            "zip 파일 삭제\n",
            "4 / 7\n",
            "  폴더 : /gdrive/Shareddrives/구드공 소스 - ETC1/리딩/MP/Book/무협/무협지 (중국)/김용 아류작\n",
            "  파일 : [____] 화산논검 6부 - 풍류여마 매초풍.zip\n",
            "Archive:  /gdrive/Shareddrives/구드공 소스 - ETC1/리딩/MP/Book/무협/무협지 (중국)/김용 아류작/[____] 화산논검 6부 - 풍류여마 매초풍.zip\n",
            "  inflating: /gdrive/Shareddrives/구드공 소스 - ETC1/리딩/MP/Book/무협/무협지 (중국)/김용 아류작/[____] 화산논검 6부 - 풍류여마 매초풍/6부 풍류여마 매초풍-2.txt  \n",
            "  inflating: /gdrive/Shareddrives/구드공 소스 - ETC1/리딩/MP/Book/무협/무협지 (중국)/김용 아류작/[____] 화산논검 6부 - 풍류여마 매초풍/6부 풍류여마 매초풍-1.txt  \n",
            "  inflating: /gdrive/Shareddrives/구드공 소스 - ETC1/리딩/MP/Book/무협/무협지 (중국)/김용 아류작/[____] 화산논검 6부 - 풍류여마 매초풍/6부 풍류여마 매초풍-3.txt  \n",
            "zip 파일 삭제\n",
            "5 / 7\n",
            "  폴더 : /gdrive/Shareddrives/구드공 소스 - ETC1/리딩/MP/Book/무협/무협지 (중국)/김용 아류작\n",
            "  파일 : [____] 완결 의천도룡기.zip\n",
            "Archive:  /gdrive/Shareddrives/구드공 소스 - ETC1/리딩/MP/Book/무협/무협지 (중국)/김용 아류작/[____] 완결 의천도룡기.zip\n",
            "  inflating: /gdrive/Shareddrives/구드공 소스 - ETC1/리딩/MP/Book/무협/무협지 (중국)/김용 아류작/[____] 완결 의천도룡기/[____] 완결 의천도룡기.txt  \n",
            "zip 파일 삭제\n",
            "6 / 7\n",
            "  폴더 : /gdrive/Shareddrives/구드공 소스 - ETC1/리딩/MP/Book/무협/무협지 (중국)/김용 아류작\n",
            "  파일 : [용공] 구음진경.zip\n",
            "Archive:  /gdrive/Shareddrives/구드공 소스 - ETC1/리딩/MP/Book/무협/무협지 (중국)/김용 아류작/[용공] 구음진경.zip\n",
            "  inflating: /gdrive/Shareddrives/구드공 소스 - ETC1/리딩/MP/Book/무협/무협지 (중국)/김용 아류작/[용공] 구음진경/[용공] 구음진경.txt  \n",
            "zip 파일 삭제\n",
            "7 / 7\n",
            "  폴더 : /gdrive/Shareddrives/구드공 소스 - ETC1/리딩/MP/Book/무협/무협지 (중국)/김용 아류작\n",
            "  파일 : [전용] 위소보전(속 녹정기).zip\n",
            "Archive:  /gdrive/Shareddrives/구드공 소스 - ETC1/리딩/MP/Book/무협/무협지 (중국)/김용 아류작/[전용] 위소보전(속 녹정기).zip\n",
            "  inflating: /gdrive/Shareddrives/구드공 소스 - ETC1/리딩/MP/Book/무협/무협지 (중국)/김용 아류작/[전용] 위소보전(속 녹정기)/[전용] 위소보전.txt  \n",
            "zip 파일 삭제\n",
            "끝\n"
          ],
          "name": "stdout"
        }
      ]
    },
    {
      "cell_type": "markdown",
      "metadata": {
        "id": "7gx8tmPrvVnF"
      },
      "source": [
        "\n",
        "# 2. zip 파일 생성\n",
        "\n",
        "잘못 해제된 것들 다시 zip\n",
        "\n"
      ]
    },
    {
      "cell_type": "markdown",
      "metadata": {
        "id": "wmgTQ7I6vVnO"
      },
      "source": [
        "## 환경설정\n",
        "\n",
        "config 값 입력 수정 후 반드시 실행해야 적용\n"
      ]
    },
    {
      "cell_type": "code",
      "metadata": {
        "colab": {
          "base_uri": "https://localhost:8080/"
        },
        "id": "TH9-2SjDvVnO",
        "outputId": "f4f89498-bca0-4736-cba5-bfda5043c6d4"
      },
      "source": [
        "zip_config = {\n",
        "    '소스 폴더' : '/gdrive/Shareddrives/구드공 소스 - ETC1/리딩/복사/전자오락 수호대/전자오락 수호대',\n",
        "    '원본 폴더 삭제' : True, \n",
        "    '디스코드 웹훅' : 'https://discord.com/api/webhooks/879676361269194762/FLu-DwrIkrgyNl3eMnJRWLoxzEMRij2j_LhkbVZVdY2iJd7kXvRTJRQXD9Q5lCP61gob', \n",
        "    '확장자' : 'zip',\n",
        "}\n",
        "print(zip_config)"
      ],
      "execution_count": null,
      "outputs": [
        {
          "output_type": "stream",
          "text": [
            "{'소스 폴더': '/gdrive/Shareddrives/구드공 소스 - ETC1/리딩/복사/전자오락 수호대/전자오락 수호대', '원본 폴더 삭제': True, '디스코드 웹훅': 'https://discord.com/api/webhooks/879676361269194762/FLu-DwrIkrgyNl3eMnJRWLoxzEMRij2j_LhkbVZVdY2iJd7kXvRTJRQXD9Q5lCP61gob', '확장자': 'zip'}\n"
          ],
          "name": "stdout"
        }
      ]
    },
    {
      "cell_type": "code",
      "metadata": {
        "id": "EkqGU4fUjcIb"
      },
      "source": [
        "# 필요없는 파일 삭제\n",
        "!find \"/gdrive/Shareddrives/구드공 소스 - ETC1/리딩/복사/메이저/메이저 1~78 완/메이저 1~78 완\" -name Thumbs.db #-exec rm -rf {} \\;"
      ],
      "execution_count": null,
      "outputs": []
    },
    {
      "cell_type": "markdown",
      "metadata": {
        "id": "ng220GScvVnP"
      },
      "source": [
        "## 실행 ##\n"
      ]
    },
    {
      "cell_type": "code",
      "metadata": {
        "id": "j9YVWHDxvVnP",
        "colab": {
          "base_uri": "https://localhost:8080/"
        },
        "outputId": "7d2572e2-9719-46f5-e8b1-0d789d58edbb"
      },
      "source": [
        "#@title ← 실행버튼을 누르세요. {display-mode: \"form\"}\n",
        "\n",
        "#@markdown 더블클릭하면 소스 확인\n",
        "\n",
        "import os, subprocess, sys, traceback, fnmatch, re, requests, shutil\n",
        "\n",
        "def send_message(msg):\n",
        "  print(msg)\n",
        "  url = zip_config['디스코드 웹훅']\n",
        "  if url == '':\n",
        "    return\n",
        "  data = {\"content\":msg, \"username\":\"Colab 압축풀기\"}\n",
        "  #data[\"embeds\"] = [{\"description\" : \"text in embed\",\"title\" : \"embed title\"}]\n",
        "  result = requests.post(url, json = data)\n",
        "  try:\n",
        "      result.raise_for_status()\n",
        "  except requests.exceptions.HTTPError as err:\n",
        "      print(err)\n",
        "\n",
        "\n",
        "def start():\n",
        "  for base, dirs, files in os.walk(zip_config['소스 폴더']):\n",
        "    if base != zip_config['소스 폴더']:\n",
        "      break\n",
        "    all_msg = ''\n",
        "    for idx, dir in enumerate(dirs):\n",
        "      try:\n",
        "        msg = f\"{idx+1} / {len(dirs)}\\n  폴더 : {dir}\\n\"\n",
        "        zipfilepath = os.path.join(base, f\"{dir}.{zip_config['확장자']}\")\n",
        "        ret = 0\n",
        "        if os.path.exists(zipfilepath) == False:\n",
        "          command = f'cd \"{os.path.join(base, dir)}\" && zip \"{zipfilepath}\" ./*'\n",
        "          ret = os.system(command)\n",
        "        if ret == 0 and zip_config['원본 폴더 삭제']:\n",
        "          shutil.rmtree(os.path.join(base, dir))\n",
        "          msg += '폴더 삭제'\n",
        "      except subprocess.CalledProcessError as grepexc:                                                                                                   \n",
        "        msg += grepexc.output\n",
        "        msg += '\\n  에러'\n",
        "      print(msg)\n",
        "      all_msg += msg\n",
        "    send_message(all_msg)\n",
        "\n",
        "start()\n",
        "\n",
        "\n"
      ],
      "execution_count": null,
      "outputs": [
        {
          "output_type": "stream",
          "text": [
            "1 / 66\n",
            "  폴더 : 211\n",
            "폴더 삭제\n",
            "2 / 66\n",
            "  폴더 : 212\n",
            "폴더 삭제\n",
            "3 / 66\n",
            "  폴더 : 213\n",
            "폴더 삭제\n",
            "4 / 66\n",
            "  폴더 : 214\n",
            "폴더 삭제\n",
            "5 / 66\n",
            "  폴더 : 215\n",
            "폴더 삭제\n",
            "6 / 66\n",
            "  폴더 : 216\n",
            "폴더 삭제\n",
            "7 / 66\n",
            "  폴더 : 217\n",
            "폴더 삭제\n",
            "8 / 66\n",
            "  폴더 : 218\n",
            "폴더 삭제\n",
            "9 / 66\n",
            "  폴더 : 219\n",
            "폴더 삭제\n",
            "10 / 66\n",
            "  폴더 : 220\n",
            "폴더 삭제\n",
            "11 / 66\n",
            "  폴더 : 221\n",
            "폴더 삭제\n",
            "12 / 66\n",
            "  폴더 : 222\n",
            "폴더 삭제\n",
            "13 / 66\n",
            "  폴더 : 223\n",
            "폴더 삭제\n",
            "14 / 66\n",
            "  폴더 : 224\n",
            "폴더 삭제\n",
            "15 / 66\n",
            "  폴더 : 225\n",
            "폴더 삭제\n",
            "16 / 66\n",
            "  폴더 : 226\n",
            "폴더 삭제\n",
            "17 / 66\n",
            "  폴더 : 227\n",
            "폴더 삭제\n",
            "18 / 66\n",
            "  폴더 : 228\n",
            "폴더 삭제\n",
            "19 / 66\n",
            "  폴더 : 230\n",
            "폴더 삭제\n",
            "20 / 66\n",
            "  폴더 : 229\n",
            "폴더 삭제\n",
            "21 / 66\n",
            "  폴더 : 231\n",
            "폴더 삭제\n",
            "22 / 66\n",
            "  폴더 : 232\n",
            "폴더 삭제\n",
            "23 / 66\n",
            "  폴더 : 233\n",
            "폴더 삭제\n",
            "24 / 66\n",
            "  폴더 : 234\n",
            "폴더 삭제\n",
            "25 / 66\n",
            "  폴더 : 235\n",
            "폴더 삭제\n",
            "26 / 66\n",
            "  폴더 : 236\n",
            "폴더 삭제\n",
            "27 / 66\n",
            "  폴더 : 237\n",
            "폴더 삭제\n",
            "28 / 66\n",
            "  폴더 : 238\n",
            "폴더 삭제\n",
            "29 / 66\n",
            "  폴더 : 239\n",
            "폴더 삭제\n",
            "30 / 66\n",
            "  폴더 : 240\n",
            "폴더 삭제\n",
            "31 / 66\n",
            "  폴더 : 241\n",
            "폴더 삭제\n",
            "32 / 66\n",
            "  폴더 : 242\n",
            "폴더 삭제\n",
            "33 / 66\n",
            "  폴더 : 243\n",
            "폴더 삭제\n",
            "34 / 66\n",
            "  폴더 : 244\n",
            "폴더 삭제\n",
            "35 / 66\n",
            "  폴더 : 245\n",
            "폴더 삭제\n",
            "36 / 66\n",
            "  폴더 : 246\n",
            "폴더 삭제\n",
            "37 / 66\n",
            "  폴더 : 247\n",
            "폴더 삭제\n",
            "38 / 66\n",
            "  폴더 : 248\n",
            "폴더 삭제\n",
            "39 / 66\n",
            "  폴더 : 249\n",
            "폴더 삭제\n",
            "40 / 66\n",
            "  폴더 : 250\n",
            "폴더 삭제\n",
            "41 / 66\n",
            "  폴더 : 251\n",
            "폴더 삭제\n",
            "42 / 66\n",
            "  폴더 : 252\n",
            "폴더 삭제\n",
            "43 / 66\n",
            "  폴더 : 253\n",
            "폴더 삭제\n",
            "44 / 66\n",
            "  폴더 : 254\n",
            "폴더 삭제\n",
            "45 / 66\n",
            "  폴더 : 255\n",
            "폴더 삭제\n",
            "46 / 66\n",
            "  폴더 : 256\n",
            "폴더 삭제\n",
            "47 / 66\n",
            "  폴더 : 257\n",
            "폴더 삭제\n",
            "48 / 66\n",
            "  폴더 : 258\n",
            "폴더 삭제\n",
            "49 / 66\n",
            "  폴더 : 259\n",
            "폴더 삭제\n",
            "50 / 66\n",
            "  폴더 : 260\n",
            "폴더 삭제\n",
            "51 / 66\n",
            "  폴더 : 261\n",
            "폴더 삭제\n",
            "52 / 66\n",
            "  폴더 : 262\n",
            "폴더 삭제\n",
            "53 / 66\n",
            "  폴더 : 263\n",
            "폴더 삭제\n",
            "54 / 66\n",
            "  폴더 : 264\n",
            "폴더 삭제\n",
            "55 / 66\n",
            "  폴더 : 265\n",
            "폴더 삭제\n",
            "56 / 66\n",
            "  폴더 : 266(credit)\n",
            "폴더 삭제\n",
            "57 / 66\n",
            "  폴더 : 001\n",
            "폴더 삭제\n",
            "58 / 66\n",
            "  폴더 : 002\n",
            "폴더 삭제\n",
            "59 / 66\n",
            "  폴더 : 003\n",
            "폴더 삭제\n",
            "60 / 66\n",
            "  폴더 : 004\n",
            "폴더 삭제\n",
            "61 / 66\n",
            "  폴더 : 005\n",
            "폴더 삭제\n",
            "62 / 66\n",
            "  폴더 : 006\n",
            "폴더 삭제\n",
            "63 / 66\n",
            "  폴더 : 007\n",
            "폴더 삭제\n",
            "64 / 66\n",
            "  폴더 : 008\n",
            "폴더 삭제\n",
            "65 / 66\n",
            "  폴더 : 009\n",
            "폴더 삭제\n",
            "66 / 66\n",
            "  폴더 : 010\n",
            "폴더 삭제\n",
            "1 / 66\n",
            "  폴더 : 211\n",
            "폴더 삭제2 / 66\n",
            "  폴더 : 212\n",
            "폴더 삭제3 / 66\n",
            "  폴더 : 213\n",
            "폴더 삭제4 / 66\n",
            "  폴더 : 214\n",
            "폴더 삭제5 / 66\n",
            "  폴더 : 215\n",
            "폴더 삭제6 / 66\n",
            "  폴더 : 216\n",
            "폴더 삭제7 / 66\n",
            "  폴더 : 217\n",
            "폴더 삭제8 / 66\n",
            "  폴더 : 218\n",
            "폴더 삭제9 / 66\n",
            "  폴더 : 219\n",
            "폴더 삭제10 / 66\n",
            "  폴더 : 220\n",
            "폴더 삭제11 / 66\n",
            "  폴더 : 221\n",
            "폴더 삭제12 / 66\n",
            "  폴더 : 222\n",
            "폴더 삭제13 / 66\n",
            "  폴더 : 223\n",
            "폴더 삭제14 / 66\n",
            "  폴더 : 224\n",
            "폴더 삭제15 / 66\n",
            "  폴더 : 225\n",
            "폴더 삭제16 / 66\n",
            "  폴더 : 226\n",
            "폴더 삭제17 / 66\n",
            "  폴더 : 227\n",
            "폴더 삭제18 / 66\n",
            "  폴더 : 228\n",
            "폴더 삭제19 / 66\n",
            "  폴더 : 230\n",
            "폴더 삭제20 / 66\n",
            "  폴더 : 229\n",
            "폴더 삭제21 / 66\n",
            "  폴더 : 231\n",
            "폴더 삭제22 / 66\n",
            "  폴더 : 232\n",
            "폴더 삭제23 / 66\n",
            "  폴더 : 233\n",
            "폴더 삭제24 / 66\n",
            "  폴더 : 234\n",
            "폴더 삭제25 / 66\n",
            "  폴더 : 235\n",
            "폴더 삭제26 / 66\n",
            "  폴더 : 236\n",
            "폴더 삭제27 / 66\n",
            "  폴더 : 237\n",
            "폴더 삭제28 / 66\n",
            "  폴더 : 238\n",
            "폴더 삭제29 / 66\n",
            "  폴더 : 239\n",
            "폴더 삭제30 / 66\n",
            "  폴더 : 240\n",
            "폴더 삭제31 / 66\n",
            "  폴더 : 241\n",
            "폴더 삭제32 / 66\n",
            "  폴더 : 242\n",
            "폴더 삭제33 / 66\n",
            "  폴더 : 243\n",
            "폴더 삭제34 / 66\n",
            "  폴더 : 244\n",
            "폴더 삭제35 / 66\n",
            "  폴더 : 245\n",
            "폴더 삭제36 / 66\n",
            "  폴더 : 246\n",
            "폴더 삭제37 / 66\n",
            "  폴더 : 247\n",
            "폴더 삭제38 / 66\n",
            "  폴더 : 248\n",
            "폴더 삭제39 / 66\n",
            "  폴더 : 249\n",
            "폴더 삭제40 / 66\n",
            "  폴더 : 250\n",
            "폴더 삭제41 / 66\n",
            "  폴더 : 251\n",
            "폴더 삭제42 / 66\n",
            "  폴더 : 252\n",
            "폴더 삭제43 / 66\n",
            "  폴더 : 253\n",
            "폴더 삭제44 / 66\n",
            "  폴더 : 254\n",
            "폴더 삭제45 / 66\n",
            "  폴더 : 255\n",
            "폴더 삭제46 / 66\n",
            "  폴더 : 256\n",
            "폴더 삭제47 / 66\n",
            "  폴더 : 257\n",
            "폴더 삭제48 / 66\n",
            "  폴더 : 258\n",
            "폴더 삭제49 / 66\n",
            "  폴더 : 259\n",
            "폴더 삭제50 / 66\n",
            "  폴더 : 260\n",
            "폴더 삭제51 / 66\n",
            "  폴더 : 261\n",
            "폴더 삭제52 / 66\n",
            "  폴더 : 262\n",
            "폴더 삭제53 / 66\n",
            "  폴더 : 263\n",
            "폴더 삭제54 / 66\n",
            "  폴더 : 264\n",
            "폴더 삭제55 / 66\n",
            "  폴더 : 265\n",
            "폴더 삭제56 / 66\n",
            "  폴더 : 266(credit)\n",
            "폴더 삭제57 / 66\n",
            "  폴더 : 001\n",
            "폴더 삭제58 / 66\n",
            "  폴더 : 002\n",
            "폴더 삭제59 / 66\n",
            "  폴더 : 003\n",
            "폴더 삭제60 / 66\n",
            "  폴더 : 004\n",
            "폴더 삭제61 / 66\n",
            "  폴더 : 005\n",
            "폴더 삭제62 / 66\n",
            "  폴더 : 006\n",
            "폴더 삭제63 / 66\n",
            "  폴더 : 007\n",
            "폴더 삭제64 / 66\n",
            "  폴더 : 008\n",
            "폴더 삭제65 / 66\n",
            "  폴더 : 009\n",
            "폴더 삭제66 / 66\n",
            "  폴더 : 010\n",
            "폴더 삭제\n"
          ],
          "name": "stdout"
        }
      ]
    },
    {
      "cell_type": "code",
      "metadata": {
        "id": "S_JUjQvWxlXG"
      },
      "source": [
        "!zip \"/gdrive/Shareddrives/구드공 소스 - ETC1/리딩/복사/스위트홈/스위트홈 완/0001 - 프롤로그.zip\" \"/gdrive/Shareddrives/구드공 소스 - ETC1/리딩/복사/스위트홈/스위트홈 완/0001 - 프롤로그/\""
      ],
      "execution_count": null,
      "outputs": []
    },
    {
      "cell_type": "code",
      "metadata": {
        "colab": {
          "base_uri": "https://localhost:8080/"
        },
        "id": "uBwj1-Hwxsyn",
        "outputId": "dee03606-9430-4cc3-ba42-265f4a40f6aa"
      },
      "source": [
        "ls -al \"/gdrive/Shareddrives/구드공 소스 - ETC1/리딩/복사/[웹툰] 고수/고수/고수\""
      ],
      "execution_count": null,
      "outputs": [
        {
          "output_type": "stream",
          "text": [
            "ls: cannot access '/gdrive/Shareddrives/구드공 소스 - ETC1/리딩/복사/[웹툰] 고수/고수/고수': No such file or directory\n"
          ],
          "name": "stdout"
        }
      ]
    }
  ]
}